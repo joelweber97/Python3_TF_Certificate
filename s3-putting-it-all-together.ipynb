{
 "cells": [
  {
   "cell_type": "code",
   "execution_count": 2,
   "metadata": {
    "_cell_guid": "b1076dfc-b9ad-4769-8c92-a6c4dae69d19",
    "_uuid": "8f2839f25d086af736a60e9eeb907d3b93b6e0e5",
    "execution": {
     "iopub.execute_input": "2022-01-24T23:44:45.761978Z",
     "iopub.status.busy": "2022-01-24T23:44:45.761218Z",
     "iopub.status.idle": "2022-01-24T23:44:52.646141Z",
     "shell.execute_reply": "2022-01-24T23:44:52.644904Z",
     "shell.execute_reply.started": "2022-01-24T23:44:45.761858Z"
    }
   },
   "outputs": [],
   "source": []
  },
  {
   "cell_type": "markdown",
   "metadata": {},
   "source": [
    "### Putting It All Together Pt1 (Preparing a Dataset)\n",
    "\n",
    "\n",
    "Context\n",
    "Machine Learning with R by Brett Lantz is a book that provides an introduction to machine learning using R. As far as I can tell, Packt Publishing does not make its datasets available online unless you buy the book and create a user account which can be a problem if you are checking the book out from the library or borrowing the book from a friend. All of these datasets are in the public domain but simply needed some cleaning up and recoding to match the format in the book.\n",
    "\n",
    "Content\n",
    "Columns\n",
    "\n",
    "age: age of primary beneficiary\n",
    "\n",
    "sex: insurance contractor gender, female, male\n",
    "\n",
    "bmi: Body mass index, providing an understanding of body, weights that are relatively high or low relative to height,\n",
    "objective index of body weight (kg / m ^ 2) using the ratio of height to weight, ideally 18.5 to 24.9\n",
    "\n",
    "children: Number of children covered by health insurance / Number of dependents\n",
    "\n",
    "smoker: Smoking\n",
    "\n",
    "region: the beneficiary's residential area in the US, northeast, southeast, southwest, northwest.\n",
    "\n",
    "charges: Individual medical costs billed by health insurance\n",
    "\n",
    "Acknowledgements\n",
    "The dataset is available on GitHub here.\n",
    "\n",
    "Inspiration\n",
    "Can you accurately predict insurance costs?"
   ]
  },
  {
   "cell_type": "code",
   "execution_count": 2,
   "metadata": {
    "execution": {
     "iopub.execute_input": "2022-01-24T23:44:52.650539Z",
     "iopub.status.busy": "2022-01-24T23:44:52.650243Z",
     "iopub.status.idle": "2022-01-24T23:44:52.671992Z",
     "shell.execute_reply": "2022-01-24T23:44:52.670812Z",
     "shell.execute_reply.started": "2022-01-24T23:44:52.650503Z"
    }
   },
   "outputs": [],
   "source": []
  },
  {
   "cell_type": "code",
   "execution_count": 3,
   "metadata": {
    "execution": {
     "iopub.execute_input": "2022-01-24T23:44:52.675597Z",
     "iopub.status.busy": "2022-01-24T23:44:52.675210Z",
     "iopub.status.idle": "2022-01-24T23:44:52.704525Z",
     "shell.execute_reply": "2022-01-24T23:44:52.703200Z",
     "shell.execute_reply.started": "2022-01-24T23:44:52.675550Z"
    }
   },
   "outputs": [
    {
     "data": {
      "text/html": [
       "<div>\n",
       "<style scoped>\n",
       "    .dataframe tbody tr th:only-of-type {\n",
       "        vertical-align: middle;\n",
       "    }\n",
       "\n",
       "    .dataframe tbody tr th {\n",
       "        vertical-align: top;\n",
       "    }\n",
       "\n",
       "    .dataframe thead th {\n",
       "        text-align: right;\n",
       "    }\n",
       "</style>\n",
       "<table border=\"1\" class=\"dataframe\">\n",
       "  <thead>\n",
       "    <tr style=\"text-align: right;\">\n",
       "      <th></th>\n",
       "      <th>age</th>\n",
       "      <th>sex</th>\n",
       "      <th>bmi</th>\n",
       "      <th>children</th>\n",
       "      <th>smoker</th>\n",
       "      <th>region</th>\n",
       "      <th>charges</th>\n",
       "    </tr>\n",
       "  </thead>\n",
       "  <tbody>\n",
       "    <tr>\n",
       "      <th>0</th>\n",
       "      <td>19</td>\n",
       "      <td>female</td>\n",
       "      <td>27.900</td>\n",
       "      <td>0</td>\n",
       "      <td>yes</td>\n",
       "      <td>southwest</td>\n",
       "      <td>16884.92400</td>\n",
       "    </tr>\n",
       "    <tr>\n",
       "      <th>1</th>\n",
       "      <td>18</td>\n",
       "      <td>male</td>\n",
       "      <td>33.770</td>\n",
       "      <td>1</td>\n",
       "      <td>no</td>\n",
       "      <td>southeast</td>\n",
       "      <td>1725.55230</td>\n",
       "    </tr>\n",
       "    <tr>\n",
       "      <th>2</th>\n",
       "      <td>28</td>\n",
       "      <td>male</td>\n",
       "      <td>33.000</td>\n",
       "      <td>3</td>\n",
       "      <td>no</td>\n",
       "      <td>southeast</td>\n",
       "      <td>4449.46200</td>\n",
       "    </tr>\n",
       "    <tr>\n",
       "      <th>3</th>\n",
       "      <td>33</td>\n",
       "      <td>male</td>\n",
       "      <td>22.705</td>\n",
       "      <td>0</td>\n",
       "      <td>no</td>\n",
       "      <td>northwest</td>\n",
       "      <td>21984.47061</td>\n",
       "    </tr>\n",
       "    <tr>\n",
       "      <th>4</th>\n",
       "      <td>32</td>\n",
       "      <td>male</td>\n",
       "      <td>28.880</td>\n",
       "      <td>0</td>\n",
       "      <td>no</td>\n",
       "      <td>northwest</td>\n",
       "      <td>3866.85520</td>\n",
       "    </tr>\n",
       "  </tbody>\n",
       "</table>\n",
       "</div>"
      ],
      "text/plain": [
       "   age     sex     bmi  children smoker     region      charges\n",
       "0   19  female  27.900         0    yes  southwest  16884.92400\n",
       "1   18    male  33.770         1     no  southeast   1725.55230\n",
       "2   28    male  33.000         3     no  southeast   4449.46200\n",
       "3   33    male  22.705         0     no  northwest  21984.47061\n",
       "4   32    male  28.880         0     no  northwest   3866.85520"
      ]
     },
     "execution_count": 3,
     "metadata": {},
     "output_type": "execute_result"
    }
   ],
   "source": [
    "df.head()"
   ]
  },
  {
   "cell_type": "code",
   "execution_count": 4,
   "metadata": {
    "execution": {
     "iopub.execute_input": "2022-01-24T23:44:52.708022Z",
     "iopub.status.busy": "2022-01-24T23:44:52.707619Z",
     "iopub.status.idle": "2022-01-24T23:44:52.736933Z",
     "shell.execute_reply": "2022-01-24T23:44:52.736105Z",
     "shell.execute_reply.started": "2022-01-24T23:44:52.707950Z"
    }
   },
   "outputs": [
    {
     "name": "stdout",
     "output_type": "stream",
     "text": [
      "<class 'pandas.core.frame.DataFrame'>\n",
      "RangeIndex: 1338 entries, 0 to 1337\n",
      "Data columns (total 7 columns):\n",
      " #   Column    Non-Null Count  Dtype  \n",
      "---  ------    --------------  -----  \n",
      " 0   age       1338 non-null   int64  \n",
      " 1   sex       1338 non-null   object \n",
      " 2   bmi       1338 non-null   float64\n",
      " 3   children  1338 non-null   int64  \n",
      " 4   smoker    1338 non-null   object \n",
      " 5   region    1338 non-null   object \n",
      " 6   charges   1338 non-null   float64\n",
      "dtypes: float64(2), int64(2), object(3)\n",
      "memory usage: 73.3+ KB\n"
     ]
    }
   ],
   "source": [
    "df.info()"
   ]
  },
  {
   "cell_type": "markdown",
   "metadata": {},
   "source": [
    "#### one hot encode categorical values"
   ]
  },
  {
   "cell_type": "code",
   "execution_count": 5,
   "metadata": {
    "execution": {
     "iopub.execute_input": "2022-01-24T23:44:52.738566Z",
     "iopub.status.busy": "2022-01-24T23:44:52.738339Z",
     "iopub.status.idle": "2022-01-24T23:44:52.778509Z",
     "shell.execute_reply": "2022-01-24T23:44:52.777659Z",
     "shell.execute_reply.started": "2022-01-24T23:44:52.738538Z"
    }
   },
   "outputs": [
    {
     "data": {
      "text/html": [
       "<div>\n",
       "<style scoped>\n",
       "    .dataframe tbody tr th:only-of-type {\n",
       "        vertical-align: middle;\n",
       "    }\n",
       "\n",
       "    .dataframe tbody tr th {\n",
       "        vertical-align: top;\n",
       "    }\n",
       "\n",
       "    .dataframe thead th {\n",
       "        text-align: right;\n",
       "    }\n",
       "</style>\n",
       "<table border=\"1\" class=\"dataframe\">\n",
       "  <thead>\n",
       "    <tr style=\"text-align: right;\">\n",
       "      <th></th>\n",
       "      <th>age</th>\n",
       "      <th>bmi</th>\n",
       "      <th>children</th>\n",
       "      <th>charges</th>\n",
       "      <th>sex_female</th>\n",
       "      <th>sex_male</th>\n",
       "      <th>smoker_no</th>\n",
       "      <th>smoker_yes</th>\n",
       "      <th>region_northeast</th>\n",
       "      <th>region_northwest</th>\n",
       "      <th>region_southeast</th>\n",
       "      <th>region_southwest</th>\n",
       "    </tr>\n",
       "  </thead>\n",
       "  <tbody>\n",
       "    <tr>\n",
       "      <th>0</th>\n",
       "      <td>19</td>\n",
       "      <td>27.900</td>\n",
       "      <td>0</td>\n",
       "      <td>16884.92400</td>\n",
       "      <td>1</td>\n",
       "      <td>0</td>\n",
       "      <td>0</td>\n",
       "      <td>1</td>\n",
       "      <td>0</td>\n",
       "      <td>0</td>\n",
       "      <td>0</td>\n",
       "      <td>1</td>\n",
       "    </tr>\n",
       "    <tr>\n",
       "      <th>1</th>\n",
       "      <td>18</td>\n",
       "      <td>33.770</td>\n",
       "      <td>1</td>\n",
       "      <td>1725.55230</td>\n",
       "      <td>0</td>\n",
       "      <td>1</td>\n",
       "      <td>1</td>\n",
       "      <td>0</td>\n",
       "      <td>0</td>\n",
       "      <td>0</td>\n",
       "      <td>1</td>\n",
       "      <td>0</td>\n",
       "    </tr>\n",
       "    <tr>\n",
       "      <th>2</th>\n",
       "      <td>28</td>\n",
       "      <td>33.000</td>\n",
       "      <td>3</td>\n",
       "      <td>4449.46200</td>\n",
       "      <td>0</td>\n",
       "      <td>1</td>\n",
       "      <td>1</td>\n",
       "      <td>0</td>\n",
       "      <td>0</td>\n",
       "      <td>0</td>\n",
       "      <td>1</td>\n",
       "      <td>0</td>\n",
       "    </tr>\n",
       "    <tr>\n",
       "      <th>3</th>\n",
       "      <td>33</td>\n",
       "      <td>22.705</td>\n",
       "      <td>0</td>\n",
       "      <td>21984.47061</td>\n",
       "      <td>0</td>\n",
       "      <td>1</td>\n",
       "      <td>1</td>\n",
       "      <td>0</td>\n",
       "      <td>0</td>\n",
       "      <td>1</td>\n",
       "      <td>0</td>\n",
       "      <td>0</td>\n",
       "    </tr>\n",
       "    <tr>\n",
       "      <th>4</th>\n",
       "      <td>32</td>\n",
       "      <td>28.880</td>\n",
       "      <td>0</td>\n",
       "      <td>3866.85520</td>\n",
       "      <td>0</td>\n",
       "      <td>1</td>\n",
       "      <td>1</td>\n",
       "      <td>0</td>\n",
       "      <td>0</td>\n",
       "      <td>1</td>\n",
       "      <td>0</td>\n",
       "      <td>0</td>\n",
       "    </tr>\n",
       "    <tr>\n",
       "      <th>...</th>\n",
       "      <td>...</td>\n",
       "      <td>...</td>\n",
       "      <td>...</td>\n",
       "      <td>...</td>\n",
       "      <td>...</td>\n",
       "      <td>...</td>\n",
       "      <td>...</td>\n",
       "      <td>...</td>\n",
       "      <td>...</td>\n",
       "      <td>...</td>\n",
       "      <td>...</td>\n",
       "      <td>...</td>\n",
       "    </tr>\n",
       "    <tr>\n",
       "      <th>1333</th>\n",
       "      <td>50</td>\n",
       "      <td>30.970</td>\n",
       "      <td>3</td>\n",
       "      <td>10600.54830</td>\n",
       "      <td>0</td>\n",
       "      <td>1</td>\n",
       "      <td>1</td>\n",
       "      <td>0</td>\n",
       "      <td>0</td>\n",
       "      <td>1</td>\n",
       "      <td>0</td>\n",
       "      <td>0</td>\n",
       "    </tr>\n",
       "    <tr>\n",
       "      <th>1334</th>\n",
       "      <td>18</td>\n",
       "      <td>31.920</td>\n",
       "      <td>0</td>\n",
       "      <td>2205.98080</td>\n",
       "      <td>1</td>\n",
       "      <td>0</td>\n",
       "      <td>1</td>\n",
       "      <td>0</td>\n",
       "      <td>1</td>\n",
       "      <td>0</td>\n",
       "      <td>0</td>\n",
       "      <td>0</td>\n",
       "    </tr>\n",
       "    <tr>\n",
       "      <th>1335</th>\n",
       "      <td>18</td>\n",
       "      <td>36.850</td>\n",
       "      <td>0</td>\n",
       "      <td>1629.83350</td>\n",
       "      <td>1</td>\n",
       "      <td>0</td>\n",
       "      <td>1</td>\n",
       "      <td>0</td>\n",
       "      <td>0</td>\n",
       "      <td>0</td>\n",
       "      <td>1</td>\n",
       "      <td>0</td>\n",
       "    </tr>\n",
       "    <tr>\n",
       "      <th>1336</th>\n",
       "      <td>21</td>\n",
       "      <td>25.800</td>\n",
       "      <td>0</td>\n",
       "      <td>2007.94500</td>\n",
       "      <td>1</td>\n",
       "      <td>0</td>\n",
       "      <td>1</td>\n",
       "      <td>0</td>\n",
       "      <td>0</td>\n",
       "      <td>0</td>\n",
       "      <td>0</td>\n",
       "      <td>1</td>\n",
       "    </tr>\n",
       "    <tr>\n",
       "      <th>1337</th>\n",
       "      <td>61</td>\n",
       "      <td>29.070</td>\n",
       "      <td>0</td>\n",
       "      <td>29141.36030</td>\n",
       "      <td>1</td>\n",
       "      <td>0</td>\n",
       "      <td>0</td>\n",
       "      <td>1</td>\n",
       "      <td>0</td>\n",
       "      <td>1</td>\n",
       "      <td>0</td>\n",
       "      <td>0</td>\n",
       "    </tr>\n",
       "  </tbody>\n",
       "</table>\n",
       "<p>1338 rows × 12 columns</p>\n",
       "</div>"
      ],
      "text/plain": [
       "      age     bmi  children      charges  sex_female  sex_male  smoker_no  \\\n",
       "0      19  27.900         0  16884.92400           1         0          0   \n",
       "1      18  33.770         1   1725.55230           0         1          1   \n",
       "2      28  33.000         3   4449.46200           0         1          1   \n",
       "3      33  22.705         0  21984.47061           0         1          1   \n",
       "4      32  28.880         0   3866.85520           0         1          1   \n",
       "...   ...     ...       ...          ...         ...       ...        ...   \n",
       "1333   50  30.970         3  10600.54830           0         1          1   \n",
       "1334   18  31.920         0   2205.98080           1         0          1   \n",
       "1335   18  36.850         0   1629.83350           1         0          1   \n",
       "1336   21  25.800         0   2007.94500           1         0          1   \n",
       "1337   61  29.070         0  29141.36030           1         0          0   \n",
       "\n",
       "      smoker_yes  region_northeast  region_northwest  region_southeast  \\\n",
       "0              1                 0                 0                 0   \n",
       "1              0                 0                 0                 1   \n",
       "2              0                 0                 0                 1   \n",
       "3              0                 0                 1                 0   \n",
       "4              0                 0                 1                 0   \n",
       "...          ...               ...               ...               ...   \n",
       "1333           0                 0                 1                 0   \n",
       "1334           0                 1                 0                 0   \n",
       "1335           0                 0                 0                 1   \n",
       "1336           0                 0                 0                 0   \n",
       "1337           1                 0                 1                 0   \n",
       "\n",
       "      region_southwest  \n",
       "0                    1  \n",
       "1                    0  \n",
       "2                    0  \n",
       "3                    0  \n",
       "4                    0  \n",
       "...                ...  \n",
       "1333                 0  \n",
       "1334                 0  \n",
       "1335                 0  \n",
       "1336                 1  \n",
       "1337                 0  \n",
       "\n",
       "[1338 rows x 12 columns]"
      ]
     },
     "execution_count": 5,
     "metadata": {},
     "output_type": "execute_result"
    }
   ],
   "source": [
    "#first step is to convert categorical (object) columns to numerical\n",
    "df_onehot = pd.get_dummies(df)\n",
    "df_onehot"
   ]
  },
  {
   "cell_type": "code",
   "execution_count": 6,
   "metadata": {
    "execution": {
     "iopub.execute_input": "2022-01-24T23:44:52.780668Z",
     "iopub.status.busy": "2022-01-24T23:44:52.780366Z",
     "iopub.status.idle": "2022-01-24T23:44:52.788503Z",
     "shell.execute_reply": "2022-01-24T23:44:52.787459Z",
     "shell.execute_reply.started": "2022-01-24T23:44:52.780624Z"
    }
   },
   "outputs": [
    {
     "data": {
      "text/plain": [
       "Index(['age', 'bmi', 'children', 'charges', 'sex_female', 'sex_male',\n",
       "       'smoker_no', 'smoker_yes', 'region_northeast', 'region_northwest',\n",
       "       'region_southeast', 'region_southwest'],\n",
       "      dtype='object')"
      ]
     },
     "execution_count": 6,
     "metadata": {},
     "output_type": "execute_result"
    }
   ],
   "source": [
    "df_onehot.columns"
   ]
  },
  {
   "cell_type": "markdown",
   "metadata": {},
   "source": [
    "#### create X and y variables"
   ]
  },
  {
   "cell_type": "code",
   "execution_count": 7,
   "metadata": {
    "execution": {
     "iopub.execute_input": "2022-01-24T23:44:52.790739Z",
     "iopub.status.busy": "2022-01-24T23:44:52.790430Z",
     "iopub.status.idle": "2022-01-24T23:44:52.801965Z",
     "shell.execute_reply": "2022-01-24T23:44:52.801045Z",
     "shell.execute_reply.started": "2022-01-24T23:44:52.790708Z"
    }
   },
   "outputs": [],
   "source": [
    "X = df_onehot[['age', 'bmi', 'children', 'sex_female', 'sex_male',\n",
    "       'smoker_no', 'smoker_yes', 'region_northeast', 'region_northwest',\n",
    "       'region_southeast', 'region_southwest']]"
   ]
  },
  {
   "cell_type": "code",
   "execution_count": 8,
   "metadata": {
    "execution": {
     "iopub.execute_input": "2022-01-24T23:44:52.806491Z",
     "iopub.status.busy": "2022-01-24T23:44:52.805765Z",
     "iopub.status.idle": "2022-01-24T23:44:52.815775Z",
     "shell.execute_reply": "2022-01-24T23:44:52.815010Z",
     "shell.execute_reply.started": "2022-01-24T23:44:52.806433Z"
    }
   },
   "outputs": [],
   "source": [
    "#also works like this\n",
    "X = df_onehot.drop('charges', axis = 1)"
   ]
  },
  {
   "cell_type": "code",
   "execution_count": 9,
   "metadata": {
    "execution": {
     "iopub.execute_input": "2022-01-24T23:44:52.818366Z",
     "iopub.status.busy": "2022-01-24T23:44:52.817419Z",
     "iopub.status.idle": "2022-01-24T23:44:52.829251Z",
     "shell.execute_reply": "2022-01-24T23:44:52.828481Z",
     "shell.execute_reply.started": "2022-01-24T23:44:52.818297Z"
    }
   },
   "outputs": [],
   "source": [
    "y = df_onehot['charges']"
   ]
  },
  {
   "cell_type": "code",
   "execution_count": 10,
   "metadata": {
    "execution": {
     "iopub.execute_input": "2022-01-24T23:44:52.833698Z",
     "iopub.status.busy": "2022-01-24T23:44:52.832642Z",
     "iopub.status.idle": "2022-01-24T23:44:52.854980Z",
     "shell.execute_reply": "2022-01-24T23:44:52.853583Z",
     "shell.execute_reply.started": "2022-01-24T23:44:52.833642Z"
    }
   },
   "outputs": [
    {
     "data": {
      "text/html": [
       "<div>\n",
       "<style scoped>\n",
       "    .dataframe tbody tr th:only-of-type {\n",
       "        vertical-align: middle;\n",
       "    }\n",
       "\n",
       "    .dataframe tbody tr th {\n",
       "        vertical-align: top;\n",
       "    }\n",
       "\n",
       "    .dataframe thead th {\n",
       "        text-align: right;\n",
       "    }\n",
       "</style>\n",
       "<table border=\"1\" class=\"dataframe\">\n",
       "  <thead>\n",
       "    <tr style=\"text-align: right;\">\n",
       "      <th></th>\n",
       "      <th>age</th>\n",
       "      <th>bmi</th>\n",
       "      <th>children</th>\n",
       "      <th>sex_female</th>\n",
       "      <th>sex_male</th>\n",
       "      <th>smoker_no</th>\n",
       "      <th>smoker_yes</th>\n",
       "      <th>region_northeast</th>\n",
       "      <th>region_northwest</th>\n",
       "      <th>region_southeast</th>\n",
       "      <th>region_southwest</th>\n",
       "    </tr>\n",
       "  </thead>\n",
       "  <tbody>\n",
       "    <tr>\n",
       "      <th>0</th>\n",
       "      <td>19</td>\n",
       "      <td>27.900</td>\n",
       "      <td>0</td>\n",
       "      <td>1</td>\n",
       "      <td>0</td>\n",
       "      <td>0</td>\n",
       "      <td>1</td>\n",
       "      <td>0</td>\n",
       "      <td>0</td>\n",
       "      <td>0</td>\n",
       "      <td>1</td>\n",
       "    </tr>\n",
       "    <tr>\n",
       "      <th>1</th>\n",
       "      <td>18</td>\n",
       "      <td>33.770</td>\n",
       "      <td>1</td>\n",
       "      <td>0</td>\n",
       "      <td>1</td>\n",
       "      <td>1</td>\n",
       "      <td>0</td>\n",
       "      <td>0</td>\n",
       "      <td>0</td>\n",
       "      <td>1</td>\n",
       "      <td>0</td>\n",
       "    </tr>\n",
       "    <tr>\n",
       "      <th>2</th>\n",
       "      <td>28</td>\n",
       "      <td>33.000</td>\n",
       "      <td>3</td>\n",
       "      <td>0</td>\n",
       "      <td>1</td>\n",
       "      <td>1</td>\n",
       "      <td>0</td>\n",
       "      <td>0</td>\n",
       "      <td>0</td>\n",
       "      <td>1</td>\n",
       "      <td>0</td>\n",
       "    </tr>\n",
       "    <tr>\n",
       "      <th>3</th>\n",
       "      <td>33</td>\n",
       "      <td>22.705</td>\n",
       "      <td>0</td>\n",
       "      <td>0</td>\n",
       "      <td>1</td>\n",
       "      <td>1</td>\n",
       "      <td>0</td>\n",
       "      <td>0</td>\n",
       "      <td>1</td>\n",
       "      <td>0</td>\n",
       "      <td>0</td>\n",
       "    </tr>\n",
       "    <tr>\n",
       "      <th>4</th>\n",
       "      <td>32</td>\n",
       "      <td>28.880</td>\n",
       "      <td>0</td>\n",
       "      <td>0</td>\n",
       "      <td>1</td>\n",
       "      <td>1</td>\n",
       "      <td>0</td>\n",
       "      <td>0</td>\n",
       "      <td>1</td>\n",
       "      <td>0</td>\n",
       "      <td>0</td>\n",
       "    </tr>\n",
       "  </tbody>\n",
       "</table>\n",
       "</div>"
      ],
      "text/plain": [
       "   age     bmi  children  sex_female  sex_male  smoker_no  smoker_yes  \\\n",
       "0   19  27.900         0           1         0          0           1   \n",
       "1   18  33.770         1           0         1          1           0   \n",
       "2   28  33.000         3           0         1          1           0   \n",
       "3   33  22.705         0           0         1          1           0   \n",
       "4   32  28.880         0           0         1          1           0   \n",
       "\n",
       "   region_northeast  region_northwest  region_southeast  region_southwest  \n",
       "0                 0                 0                 0                 1  \n",
       "1                 0                 0                 1                 0  \n",
       "2                 0                 0                 1                 0  \n",
       "3                 0                 1                 0                 0  \n",
       "4                 0                 1                 0                 0  "
      ]
     },
     "execution_count": 10,
     "metadata": {},
     "output_type": "execute_result"
    }
   ],
   "source": [
    "X.head()"
   ]
  },
  {
   "cell_type": "code",
   "execution_count": 11,
   "metadata": {
    "execution": {
     "iopub.execute_input": "2022-01-24T23:44:52.857301Z",
     "iopub.status.busy": "2022-01-24T23:44:52.856509Z",
     "iopub.status.idle": "2022-01-24T23:44:52.866096Z",
     "shell.execute_reply": "2022-01-24T23:44:52.864963Z",
     "shell.execute_reply.started": "2022-01-24T23:44:52.857264Z"
    }
   },
   "outputs": [
    {
     "data": {
      "text/plain": [
       "0    16884.92400\n",
       "1     1725.55230\n",
       "2     4449.46200\n",
       "3    21984.47061\n",
       "4     3866.85520\n",
       "Name: charges, dtype: float64"
      ]
     },
     "execution_count": 11,
     "metadata": {},
     "output_type": "execute_result"
    }
   ],
   "source": [
    "y.head()"
   ]
  },
  {
   "cell_type": "code",
   "execution_count": 12,
   "metadata": {
    "execution": {
     "iopub.execute_input": "2022-01-24T23:44:52.868501Z",
     "iopub.status.busy": "2022-01-24T23:44:52.867519Z",
     "iopub.status.idle": "2022-01-24T23:44:52.878451Z",
     "shell.execute_reply": "2022-01-24T23:44:52.877712Z",
     "shell.execute_reply.started": "2022-01-24T23:44:52.868419Z"
    }
   },
   "outputs": [
    {
     "data": {
      "text/plain": [
       "(1338, 11)"
      ]
     },
     "execution_count": 12,
     "metadata": {},
     "output_type": "execute_result"
    }
   ],
   "source": [
    "X.shape"
   ]
  },
  {
   "cell_type": "code",
   "execution_count": 13,
   "metadata": {
    "execution": {
     "iopub.execute_input": "2022-01-24T23:44:52.880823Z",
     "iopub.status.busy": "2022-01-24T23:44:52.879661Z",
     "iopub.status.idle": "2022-01-24T23:44:52.891875Z",
     "shell.execute_reply": "2022-01-24T23:44:52.890590Z",
     "shell.execute_reply.started": "2022-01-24T23:44:52.880756Z"
    }
   },
   "outputs": [
    {
     "data": {
      "text/plain": [
       "(1338,)"
      ]
     },
     "execution_count": 13,
     "metadata": {},
     "output_type": "execute_result"
    }
   ],
   "source": [
    "y.shape"
   ]
  },
  {
   "cell_type": "markdown",
   "metadata": {},
   "source": [
    "#### create training and test set"
   ]
  },
  {
   "cell_type": "code",
   "execution_count": 14,
   "metadata": {
    "execution": {
     "iopub.execute_input": "2022-01-24T23:44:52.893834Z",
     "iopub.status.busy": "2022-01-24T23:44:52.893592Z",
     "iopub.status.idle": "2022-01-24T23:44:52.903624Z",
     "shell.execute_reply": "2022-01-24T23:44:52.902595Z",
     "shell.execute_reply.started": "2022-01-24T23:44:52.893807Z"
    }
   },
   "outputs": [],
   "source": [
    "from sklearn.model_selection import train_test_split"
   ]
  },
  {
   "cell_type": "code",
   "execution_count": 15,
   "metadata": {
    "execution": {
     "iopub.execute_input": "2022-01-24T23:44:52.905779Z",
     "iopub.status.busy": "2022-01-24T23:44:52.904802Z",
     "iopub.status.idle": "2022-01-24T23:44:52.919707Z",
     "shell.execute_reply": "2022-01-24T23:44:52.918655Z",
     "shell.execute_reply.started": "2022-01-24T23:44:52.905730Z"
    }
   },
   "outputs": [],
   "source": [
    "X_train, X_test, y_train, y_test = train_test_split(X, y, test_size = .2, random_state = 42)"
   ]
  },
  {
   "cell_type": "code",
   "execution_count": 16,
   "metadata": {
    "execution": {
     "iopub.execute_input": "2022-01-24T23:44:52.921728Z",
     "iopub.status.busy": "2022-01-24T23:44:52.920991Z",
     "iopub.status.idle": "2022-01-24T23:44:52.942671Z",
     "shell.execute_reply": "2022-01-24T23:44:52.941529Z",
     "shell.execute_reply.started": "2022-01-24T23:44:52.921693Z"
    }
   },
   "outputs": [
    {
     "data": {
      "text/html": [
       "<div>\n",
       "<style scoped>\n",
       "    .dataframe tbody tr th:only-of-type {\n",
       "        vertical-align: middle;\n",
       "    }\n",
       "\n",
       "    .dataframe tbody tr th {\n",
       "        vertical-align: top;\n",
       "    }\n",
       "\n",
       "    .dataframe thead th {\n",
       "        text-align: right;\n",
       "    }\n",
       "</style>\n",
       "<table border=\"1\" class=\"dataframe\">\n",
       "  <thead>\n",
       "    <tr style=\"text-align: right;\">\n",
       "      <th></th>\n",
       "      <th>age</th>\n",
       "      <th>bmi</th>\n",
       "      <th>children</th>\n",
       "      <th>sex_female</th>\n",
       "      <th>sex_male</th>\n",
       "      <th>smoker_no</th>\n",
       "      <th>smoker_yes</th>\n",
       "      <th>region_northeast</th>\n",
       "      <th>region_northwest</th>\n",
       "      <th>region_southeast</th>\n",
       "      <th>region_southwest</th>\n",
       "    </tr>\n",
       "  </thead>\n",
       "  <tbody>\n",
       "    <tr>\n",
       "      <th>560</th>\n",
       "      <td>46</td>\n",
       "      <td>19.950</td>\n",
       "      <td>2</td>\n",
       "      <td>1</td>\n",
       "      <td>0</td>\n",
       "      <td>1</td>\n",
       "      <td>0</td>\n",
       "      <td>0</td>\n",
       "      <td>1</td>\n",
       "      <td>0</td>\n",
       "      <td>0</td>\n",
       "    </tr>\n",
       "    <tr>\n",
       "      <th>1285</th>\n",
       "      <td>47</td>\n",
       "      <td>24.320</td>\n",
       "      <td>0</td>\n",
       "      <td>1</td>\n",
       "      <td>0</td>\n",
       "      <td>1</td>\n",
       "      <td>0</td>\n",
       "      <td>1</td>\n",
       "      <td>0</td>\n",
       "      <td>0</td>\n",
       "      <td>0</td>\n",
       "    </tr>\n",
       "    <tr>\n",
       "      <th>1142</th>\n",
       "      <td>52</td>\n",
       "      <td>24.860</td>\n",
       "      <td>0</td>\n",
       "      <td>1</td>\n",
       "      <td>0</td>\n",
       "      <td>1</td>\n",
       "      <td>0</td>\n",
       "      <td>0</td>\n",
       "      <td>0</td>\n",
       "      <td>1</td>\n",
       "      <td>0</td>\n",
       "    </tr>\n",
       "    <tr>\n",
       "      <th>969</th>\n",
       "      <td>39</td>\n",
       "      <td>34.320</td>\n",
       "      <td>5</td>\n",
       "      <td>1</td>\n",
       "      <td>0</td>\n",
       "      <td>1</td>\n",
       "      <td>0</td>\n",
       "      <td>0</td>\n",
       "      <td>0</td>\n",
       "      <td>1</td>\n",
       "      <td>0</td>\n",
       "    </tr>\n",
       "    <tr>\n",
       "      <th>486</th>\n",
       "      <td>54</td>\n",
       "      <td>21.470</td>\n",
       "      <td>3</td>\n",
       "      <td>1</td>\n",
       "      <td>0</td>\n",
       "      <td>1</td>\n",
       "      <td>0</td>\n",
       "      <td>0</td>\n",
       "      <td>1</td>\n",
       "      <td>0</td>\n",
       "      <td>0</td>\n",
       "    </tr>\n",
       "    <tr>\n",
       "      <th>...</th>\n",
       "      <td>...</td>\n",
       "      <td>...</td>\n",
       "      <td>...</td>\n",
       "      <td>...</td>\n",
       "      <td>...</td>\n",
       "      <td>...</td>\n",
       "      <td>...</td>\n",
       "      <td>...</td>\n",
       "      <td>...</td>\n",
       "      <td>...</td>\n",
       "      <td>...</td>\n",
       "    </tr>\n",
       "    <tr>\n",
       "      <th>1095</th>\n",
       "      <td>18</td>\n",
       "      <td>31.350</td>\n",
       "      <td>4</td>\n",
       "      <td>1</td>\n",
       "      <td>0</td>\n",
       "      <td>1</td>\n",
       "      <td>0</td>\n",
       "      <td>1</td>\n",
       "      <td>0</td>\n",
       "      <td>0</td>\n",
       "      <td>0</td>\n",
       "    </tr>\n",
       "    <tr>\n",
       "      <th>1130</th>\n",
       "      <td>39</td>\n",
       "      <td>23.870</td>\n",
       "      <td>5</td>\n",
       "      <td>1</td>\n",
       "      <td>0</td>\n",
       "      <td>1</td>\n",
       "      <td>0</td>\n",
       "      <td>0</td>\n",
       "      <td>0</td>\n",
       "      <td>1</td>\n",
       "      <td>0</td>\n",
       "    </tr>\n",
       "    <tr>\n",
       "      <th>1294</th>\n",
       "      <td>58</td>\n",
       "      <td>25.175</td>\n",
       "      <td>0</td>\n",
       "      <td>0</td>\n",
       "      <td>1</td>\n",
       "      <td>1</td>\n",
       "      <td>0</td>\n",
       "      <td>1</td>\n",
       "      <td>0</td>\n",
       "      <td>0</td>\n",
       "      <td>0</td>\n",
       "    </tr>\n",
       "    <tr>\n",
       "      <th>860</th>\n",
       "      <td>37</td>\n",
       "      <td>47.600</td>\n",
       "      <td>2</td>\n",
       "      <td>1</td>\n",
       "      <td>0</td>\n",
       "      <td>0</td>\n",
       "      <td>1</td>\n",
       "      <td>0</td>\n",
       "      <td>0</td>\n",
       "      <td>0</td>\n",
       "      <td>1</td>\n",
       "    </tr>\n",
       "    <tr>\n",
       "      <th>1126</th>\n",
       "      <td>55</td>\n",
       "      <td>29.900</td>\n",
       "      <td>0</td>\n",
       "      <td>0</td>\n",
       "      <td>1</td>\n",
       "      <td>1</td>\n",
       "      <td>0</td>\n",
       "      <td>0</td>\n",
       "      <td>0</td>\n",
       "      <td>0</td>\n",
       "      <td>1</td>\n",
       "    </tr>\n",
       "  </tbody>\n",
       "</table>\n",
       "<p>1070 rows × 11 columns</p>\n",
       "</div>"
      ],
      "text/plain": [
       "      age     bmi  children  sex_female  sex_male  smoker_no  smoker_yes  \\\n",
       "560    46  19.950         2           1         0          1           0   \n",
       "1285   47  24.320         0           1         0          1           0   \n",
       "1142   52  24.860         0           1         0          1           0   \n",
       "969    39  34.320         5           1         0          1           0   \n",
       "486    54  21.470         3           1         0          1           0   \n",
       "...   ...     ...       ...         ...       ...        ...         ...   \n",
       "1095   18  31.350         4           1         0          1           0   \n",
       "1130   39  23.870         5           1         0          1           0   \n",
       "1294   58  25.175         0           0         1          1           0   \n",
       "860    37  47.600         2           1         0          0           1   \n",
       "1126   55  29.900         0           0         1          1           0   \n",
       "\n",
       "      region_northeast  region_northwest  region_southeast  region_southwest  \n",
       "560                  0                 1                 0                 0  \n",
       "1285                 1                 0                 0                 0  \n",
       "1142                 0                 0                 1                 0  \n",
       "969                  0                 0                 1                 0  \n",
       "486                  0                 1                 0                 0  \n",
       "...                ...               ...               ...               ...  \n",
       "1095                 1                 0                 0                 0  \n",
       "1130                 0                 0                 1                 0  \n",
       "1294                 1                 0                 0                 0  \n",
       "860                  0                 0                 0                 1  \n",
       "1126                 0                 0                 0                 1  \n",
       "\n",
       "[1070 rows x 11 columns]"
      ]
     },
     "execution_count": 16,
     "metadata": {},
     "output_type": "execute_result"
    }
   ],
   "source": [
    "X_train"
   ]
  },
  {
   "cell_type": "code",
   "execution_count": 17,
   "metadata": {
    "execution": {
     "iopub.execute_input": "2022-01-24T23:44:52.944697Z",
     "iopub.status.busy": "2022-01-24T23:44:52.944331Z",
     "iopub.status.idle": "2022-01-24T23:44:52.957855Z",
     "shell.execute_reply": "2022-01-24T23:44:52.956772Z",
     "shell.execute_reply.started": "2022-01-24T23:44:52.944621Z"
    }
   },
   "outputs": [
    {
     "data": {
      "text/plain": [
       "560      9193.83850\n",
       "1285     8534.67180\n",
       "1142    27117.99378\n",
       "969      8596.82780\n",
       "486     12475.35130\n",
       "           ...     \n",
       "1095     4561.18850\n",
       "1130     8582.30230\n",
       "1294    11931.12525\n",
       "860     46113.51100\n",
       "1126    10214.63600\n",
       "Name: charges, Length: 1070, dtype: float64"
      ]
     },
     "execution_count": 17,
     "metadata": {},
     "output_type": "execute_result"
    }
   ],
   "source": [
    "y_train"
   ]
  },
  {
   "cell_type": "code",
   "execution_count": 18,
   "metadata": {
    "execution": {
     "iopub.execute_input": "2022-01-24T23:44:52.960338Z",
     "iopub.status.busy": "2022-01-24T23:44:52.959800Z",
     "iopub.status.idle": "2022-01-24T23:44:52.983914Z",
     "shell.execute_reply": "2022-01-24T23:44:52.983065Z",
     "shell.execute_reply.started": "2022-01-24T23:44:52.960291Z"
    }
   },
   "outputs": [
    {
     "data": {
      "text/html": [
       "<div>\n",
       "<style scoped>\n",
       "    .dataframe tbody tr th:only-of-type {\n",
       "        vertical-align: middle;\n",
       "    }\n",
       "\n",
       "    .dataframe tbody tr th {\n",
       "        vertical-align: top;\n",
       "    }\n",
       "\n",
       "    .dataframe thead th {\n",
       "        text-align: right;\n",
       "    }\n",
       "</style>\n",
       "<table border=\"1\" class=\"dataframe\">\n",
       "  <thead>\n",
       "    <tr style=\"text-align: right;\">\n",
       "      <th></th>\n",
       "      <th>age</th>\n",
       "      <th>bmi</th>\n",
       "      <th>children</th>\n",
       "      <th>sex_female</th>\n",
       "      <th>sex_male</th>\n",
       "      <th>smoker_no</th>\n",
       "      <th>smoker_yes</th>\n",
       "      <th>region_northeast</th>\n",
       "      <th>region_northwest</th>\n",
       "      <th>region_southeast</th>\n",
       "      <th>region_southwest</th>\n",
       "    </tr>\n",
       "  </thead>\n",
       "  <tbody>\n",
       "    <tr>\n",
       "      <th>764</th>\n",
       "      <td>45</td>\n",
       "      <td>25.175</td>\n",
       "      <td>2</td>\n",
       "      <td>1</td>\n",
       "      <td>0</td>\n",
       "      <td>1</td>\n",
       "      <td>0</td>\n",
       "      <td>1</td>\n",
       "      <td>0</td>\n",
       "      <td>0</td>\n",
       "      <td>0</td>\n",
       "    </tr>\n",
       "    <tr>\n",
       "      <th>887</th>\n",
       "      <td>36</td>\n",
       "      <td>30.020</td>\n",
       "      <td>0</td>\n",
       "      <td>1</td>\n",
       "      <td>0</td>\n",
       "      <td>1</td>\n",
       "      <td>0</td>\n",
       "      <td>0</td>\n",
       "      <td>1</td>\n",
       "      <td>0</td>\n",
       "      <td>0</td>\n",
       "    </tr>\n",
       "    <tr>\n",
       "      <th>890</th>\n",
       "      <td>64</td>\n",
       "      <td>26.885</td>\n",
       "      <td>0</td>\n",
       "      <td>1</td>\n",
       "      <td>0</td>\n",
       "      <td>0</td>\n",
       "      <td>1</td>\n",
       "      <td>0</td>\n",
       "      <td>1</td>\n",
       "      <td>0</td>\n",
       "      <td>0</td>\n",
       "    </tr>\n",
       "    <tr>\n",
       "      <th>1293</th>\n",
       "      <td>46</td>\n",
       "      <td>25.745</td>\n",
       "      <td>3</td>\n",
       "      <td>0</td>\n",
       "      <td>1</td>\n",
       "      <td>1</td>\n",
       "      <td>0</td>\n",
       "      <td>0</td>\n",
       "      <td>1</td>\n",
       "      <td>0</td>\n",
       "      <td>0</td>\n",
       "    </tr>\n",
       "    <tr>\n",
       "      <th>259</th>\n",
       "      <td>19</td>\n",
       "      <td>31.920</td>\n",
       "      <td>0</td>\n",
       "      <td>0</td>\n",
       "      <td>1</td>\n",
       "      <td>0</td>\n",
       "      <td>1</td>\n",
       "      <td>0</td>\n",
       "      <td>1</td>\n",
       "      <td>0</td>\n",
       "      <td>0</td>\n",
       "    </tr>\n",
       "    <tr>\n",
       "      <th>...</th>\n",
       "      <td>...</td>\n",
       "      <td>...</td>\n",
       "      <td>...</td>\n",
       "      <td>...</td>\n",
       "      <td>...</td>\n",
       "      <td>...</td>\n",
       "      <td>...</td>\n",
       "      <td>...</td>\n",
       "      <td>...</td>\n",
       "      <td>...</td>\n",
       "      <td>...</td>\n",
       "    </tr>\n",
       "    <tr>\n",
       "      <th>109</th>\n",
       "      <td>63</td>\n",
       "      <td>35.090</td>\n",
       "      <td>0</td>\n",
       "      <td>0</td>\n",
       "      <td>1</td>\n",
       "      <td>0</td>\n",
       "      <td>1</td>\n",
       "      <td>0</td>\n",
       "      <td>0</td>\n",
       "      <td>1</td>\n",
       "      <td>0</td>\n",
       "    </tr>\n",
       "    <tr>\n",
       "      <th>575</th>\n",
       "      <td>58</td>\n",
       "      <td>27.170</td>\n",
       "      <td>0</td>\n",
       "      <td>1</td>\n",
       "      <td>0</td>\n",
       "      <td>1</td>\n",
       "      <td>0</td>\n",
       "      <td>0</td>\n",
       "      <td>1</td>\n",
       "      <td>0</td>\n",
       "      <td>0</td>\n",
       "    </tr>\n",
       "    <tr>\n",
       "      <th>535</th>\n",
       "      <td>38</td>\n",
       "      <td>28.025</td>\n",
       "      <td>1</td>\n",
       "      <td>0</td>\n",
       "      <td>1</td>\n",
       "      <td>1</td>\n",
       "      <td>0</td>\n",
       "      <td>1</td>\n",
       "      <td>0</td>\n",
       "      <td>0</td>\n",
       "      <td>0</td>\n",
       "    </tr>\n",
       "    <tr>\n",
       "      <th>543</th>\n",
       "      <td>54</td>\n",
       "      <td>47.410</td>\n",
       "      <td>0</td>\n",
       "      <td>1</td>\n",
       "      <td>0</td>\n",
       "      <td>0</td>\n",
       "      <td>1</td>\n",
       "      <td>0</td>\n",
       "      <td>0</td>\n",
       "      <td>1</td>\n",
       "      <td>0</td>\n",
       "    </tr>\n",
       "    <tr>\n",
       "      <th>846</th>\n",
       "      <td>51</td>\n",
       "      <td>34.200</td>\n",
       "      <td>1</td>\n",
       "      <td>1</td>\n",
       "      <td>0</td>\n",
       "      <td>1</td>\n",
       "      <td>0</td>\n",
       "      <td>0</td>\n",
       "      <td>0</td>\n",
       "      <td>0</td>\n",
       "      <td>1</td>\n",
       "    </tr>\n",
       "  </tbody>\n",
       "</table>\n",
       "<p>268 rows × 11 columns</p>\n",
       "</div>"
      ],
      "text/plain": [
       "      age     bmi  children  sex_female  sex_male  smoker_no  smoker_yes  \\\n",
       "764    45  25.175         2           1         0          1           0   \n",
       "887    36  30.020         0           1         0          1           0   \n",
       "890    64  26.885         0           1         0          0           1   \n",
       "1293   46  25.745         3           0         1          1           0   \n",
       "259    19  31.920         0           0         1          0           1   \n",
       "...   ...     ...       ...         ...       ...        ...         ...   \n",
       "109    63  35.090         0           0         1          0           1   \n",
       "575    58  27.170         0           1         0          1           0   \n",
       "535    38  28.025         1           0         1          1           0   \n",
       "543    54  47.410         0           1         0          0           1   \n",
       "846    51  34.200         1           1         0          1           0   \n",
       "\n",
       "      region_northeast  region_northwest  region_southeast  region_southwest  \n",
       "764                  1                 0                 0                 0  \n",
       "887                  0                 1                 0                 0  \n",
       "890                  0                 1                 0                 0  \n",
       "1293                 0                 1                 0                 0  \n",
       "259                  0                 1                 0                 0  \n",
       "...                ...               ...               ...               ...  \n",
       "109                  0                 0                 1                 0  \n",
       "575                  0                 1                 0                 0  \n",
       "535                  1                 0                 0                 0  \n",
       "543                  0                 0                 1                 0  \n",
       "846                  0                 0                 0                 1  \n",
       "\n",
       "[268 rows x 11 columns]"
      ]
     },
     "execution_count": 18,
     "metadata": {},
     "output_type": "execute_result"
    }
   ],
   "source": [
    "X_test"
   ]
  },
  {
   "cell_type": "markdown",
   "metadata": {},
   "source": [
    "#### Build a model"
   ]
  },
  {
   "cell_type": "code",
   "execution_count": 19,
   "metadata": {
    "execution": {
     "iopub.execute_input": "2022-01-24T23:44:52.986145Z",
     "iopub.status.busy": "2022-01-24T23:44:52.985640Z",
     "iopub.status.idle": "2022-01-24T23:44:52.991103Z",
     "shell.execute_reply": "2022-01-24T23:44:52.990142Z",
     "shell.execute_reply.started": "2022-01-24T23:44:52.986096Z"
    }
   },
   "outputs": [],
   "source": [
    "tf.random.set_seed(42)"
   ]
  },
  {
   "cell_type": "code",
   "execution_count": 29,
   "metadata": {
    "execution": {
     "iopub.execute_input": "2022-01-24T23:56:57.609857Z",
     "iopub.status.busy": "2022-01-24T23:56:57.609519Z",
     "iopub.status.idle": "2022-01-24T23:56:57.621935Z",
     "shell.execute_reply": "2022-01-24T23:56:57.621073Z",
     "shell.execute_reply.started": "2022-01-24T23:56:57.609826Z"
    }
   },
   "outputs": [],
   "source": [
    "#create the model\n",
    "insurance_model = tf.keras.Sequential()\n",
    "insurance_model.add(tf.keras.layers.Dense(11))\n",
    "insurance_model.add(tf.keras.layers.Dense(1))"
   ]
  },
  {
   "cell_type": "code",
   "execution_count": 30,
   "metadata": {
    "execution": {
     "iopub.execute_input": "2022-01-24T23:57:00.106266Z",
     "iopub.status.busy": "2022-01-24T23:57:00.105622Z",
     "iopub.status.idle": "2022-01-24T23:57:00.118213Z",
     "shell.execute_reply": "2022-01-24T23:57:00.117329Z",
     "shell.execute_reply.started": "2022-01-24T23:57:00.106214Z"
    }
   },
   "outputs": [],
   "source": [
    "#compile the model\n",
    "insurance_model.compile(loss = tf.keras.losses.mae,\n",
    "                        optimizer = tf.keras.optimizers.SGD(),\n",
    "                        metrics = ['mae'])"
   ]
  },
  {
   "cell_type": "code",
   "execution_count": 64,
   "metadata": {
    "execution": {
     "iopub.execute_input": "2022-01-25T00:26:49.612549Z",
     "iopub.status.busy": "2022-01-25T00:26:49.612198Z",
     "iopub.status.idle": "2022-01-25T00:26:54.652338Z",
     "shell.execute_reply": "2022-01-25T00:26:54.651148Z",
     "shell.execute_reply.started": "2022-01-25T00:26:49.612514Z"
    }
   },
   "outputs": [
    {
     "name": "stdout",
     "output_type": "stream",
     "text": [
      "Epoch 1/100\n",
      "34/34 [==============================] - 0s 1ms/step - loss: 7269.4473 - mae: 7269.4473\n",
      "Epoch 2/100\n",
      "34/34 [==============================] - 0s 1ms/step - loss: 7037.6104 - mae: 7037.6104\n",
      "Epoch 3/100\n",
      "34/34 [==============================] - 0s 1ms/step - loss: 6979.5317 - mae: 6979.5317\n",
      "Epoch 4/100\n",
      "34/34 [==============================] - 0s 1ms/step - loss: 7364.3394 - mae: 7364.3394\n",
      "Epoch 5/100\n",
      "34/34 [==============================] - 0s 1ms/step - loss: 7165.4648 - mae: 7165.4648\n",
      "Epoch 6/100\n",
      "34/34 [==============================] - 0s 1ms/step - loss: 7149.1904 - mae: 7149.1904\n",
      "Epoch 7/100\n",
      "34/34 [==============================] - 0s 1ms/step - loss: 7191.2012 - mae: 7191.2012\n",
      "Epoch 8/100\n",
      "34/34 [==============================] - 0s 1ms/step - loss: 6984.6548 - mae: 6984.6548\n",
      "Epoch 9/100\n",
      "34/34 [==============================] - 0s 1ms/step - loss: 7192.0811 - mae: 7192.0811\n",
      "Epoch 10/100\n",
      "34/34 [==============================] - 0s 1ms/step - loss: 6882.0845 - mae: 6882.0845\n",
      "Epoch 11/100\n",
      "34/34 [==============================] - 0s 1ms/step - loss: 7287.4722 - mae: 7287.4722\n",
      "Epoch 12/100\n",
      "34/34 [==============================] - 0s 1ms/step - loss: 7327.8779 - mae: 7327.8779\n",
      "Epoch 13/100\n",
      "34/34 [==============================] - 0s 1ms/step - loss: 7390.2974 - mae: 7390.2974\n",
      "Epoch 14/100\n",
      "34/34 [==============================] - 0s 1ms/step - loss: 7187.1045 - mae: 7187.1045\n",
      "Epoch 15/100\n",
      "34/34 [==============================] - 0s 1ms/step - loss: 7103.7812 - mae: 7103.7812\n",
      "Epoch 16/100\n",
      "34/34 [==============================] - 0s 1ms/step - loss: 6997.2881 - mae: 6997.2881\n",
      "Epoch 17/100\n",
      "34/34 [==============================] - 0s 1ms/step - loss: 7281.3296 - mae: 7281.3296\n",
      "Epoch 18/100\n",
      "34/34 [==============================] - 0s 1ms/step - loss: 7251.3652 - mae: 7251.3652\n",
      "Epoch 19/100\n",
      "34/34 [==============================] - 0s 1ms/step - loss: 7099.0576 - mae: 7099.0576\n",
      "Epoch 20/100\n",
      "34/34 [==============================] - 0s 1ms/step - loss: 7229.3633 - mae: 7229.3633\n",
      "Epoch 21/100\n",
      "34/34 [==============================] - 0s 1ms/step - loss: 7033.0049 - mae: 7033.0049\n",
      "Epoch 22/100\n",
      "34/34 [==============================] - 0s 1ms/step - loss: 7315.8730 - mae: 7315.8730\n",
      "Epoch 23/100\n",
      "34/34 [==============================] - 0s 1ms/step - loss: 6928.7588 - mae: 6928.7588\n",
      "Epoch 24/100\n",
      "34/34 [==============================] - 0s 1ms/step - loss: 7103.4507 - mae: 7103.4507\n",
      "Epoch 25/100\n",
      "34/34 [==============================] - 0s 1ms/step - loss: 7025.7114 - mae: 7025.7114\n",
      "Epoch 26/100\n",
      "34/34 [==============================] - 0s 1ms/step - loss: 7100.6655 - mae: 7100.6655\n",
      "Epoch 27/100\n",
      "34/34 [==============================] - 0s 1ms/step - loss: 7349.9121 - mae: 7349.9121\n",
      "Epoch 28/100\n",
      "34/34 [==============================] - 0s 1ms/step - loss: 6949.2915 - mae: 6949.2915\n",
      "Epoch 29/100\n",
      "34/34 [==============================] - 0s 1ms/step - loss: 7017.1196 - mae: 7017.1196\n",
      "Epoch 30/100\n",
      "34/34 [==============================] - 0s 1ms/step - loss: 7013.8735 - mae: 7013.8735\n",
      "Epoch 31/100\n",
      "34/34 [==============================] - 0s 1ms/step - loss: 7121.1616 - mae: 7121.1616\n",
      "Epoch 32/100\n",
      "34/34 [==============================] - 0s 1ms/step - loss: 6739.8364 - mae: 6739.8364\n",
      "Epoch 33/100\n",
      "34/34 [==============================] - 0s 1ms/step - loss: 7086.4502 - mae: 7086.4502\n",
      "Epoch 34/100\n",
      "34/34 [==============================] - 0s 1ms/step - loss: 6813.3877 - mae: 6813.3877\n",
      "Epoch 35/100\n",
      "34/34 [==============================] - 0s 1ms/step - loss: 6903.6860 - mae: 6903.6860\n",
      "Epoch 36/100\n",
      "34/34 [==============================] - 0s 1ms/step - loss: 7155.6548 - mae: 7155.6548\n",
      "Epoch 37/100\n",
      "34/34 [==============================] - 0s 1ms/step - loss: 7286.5913 - mae: 7286.5913\n",
      "Epoch 38/100\n",
      "34/34 [==============================] - 0s 1ms/step - loss: 6834.5239 - mae: 6834.5239\n",
      "Epoch 39/100\n",
      "34/34 [==============================] - 0s 1ms/step - loss: 7144.9629 - mae: 7144.9629\n",
      "Epoch 40/100\n",
      "34/34 [==============================] - 0s 1ms/step - loss: 7065.5610 - mae: 7065.5610\n",
      "Epoch 41/100\n",
      "34/34 [==============================] - 0s 1ms/step - loss: 7191.2388 - mae: 7191.2388\n",
      "Epoch 42/100\n",
      "34/34 [==============================] - 0s 1ms/step - loss: 7151.1030 - mae: 7151.1030\n",
      "Epoch 43/100\n",
      "34/34 [==============================] - 0s 1ms/step - loss: 7379.7812 - mae: 7379.7812\n",
      "Epoch 44/100\n",
      "34/34 [==============================] - 0s 1ms/step - loss: 6796.9487 - mae: 6796.9487\n",
      "Epoch 45/100\n",
      "34/34 [==============================] - 0s 1ms/step - loss: 7007.1846 - mae: 7007.1846\n",
      "Epoch 46/100\n",
      "34/34 [==============================] - 0s 1ms/step - loss: 7128.7202 - mae: 7128.7202\n",
      "Epoch 47/100\n",
      "34/34 [==============================] - 0s 1ms/step - loss: 7039.0527 - mae: 7039.0527\n",
      "Epoch 48/100\n",
      "34/34 [==============================] - 0s 1ms/step - loss: 6967.4390 - mae: 6967.4390\n",
      "Epoch 49/100\n",
      "34/34 [==============================] - 0s 1ms/step - loss: 6810.5352 - mae: 6810.5352\n",
      "Epoch 50/100\n",
      "34/34 [==============================] - 0s 1ms/step - loss: 7054.4673 - mae: 7054.4673\n",
      "Epoch 51/100\n",
      "34/34 [==============================] - 0s 1ms/step - loss: 6944.1934 - mae: 6944.1934\n",
      "Epoch 52/100\n",
      "34/34 [==============================] - 0s 1ms/step - loss: 6850.2798 - mae: 6850.2798\n",
      "Epoch 53/100\n",
      "34/34 [==============================] - 0s 1ms/step - loss: 7226.7798 - mae: 7226.7798\n",
      "Epoch 54/100\n",
      "34/34 [==============================] - 0s 1ms/step - loss: 6831.6851 - mae: 6831.6851\n",
      "Epoch 55/100\n",
      "34/34 [==============================] - 0s 1ms/step - loss: 6871.9312 - mae: 6871.9312\n",
      "Epoch 56/100\n",
      "34/34 [==============================] - 0s 1ms/step - loss: 6688.9668 - mae: 6688.9668\n",
      "Epoch 57/100\n",
      "34/34 [==============================] - 0s 1ms/step - loss: 6840.3960 - mae: 6840.3960\n",
      "Epoch 58/100\n",
      "34/34 [==============================] - 0s 1ms/step - loss: 7031.2651 - mae: 7031.2651\n",
      "Epoch 59/100\n",
      "34/34 [==============================] - 0s 1ms/step - loss: 6867.5786 - mae: 6867.5786\n",
      "Epoch 60/100\n",
      "34/34 [==============================] - 0s 1ms/step - loss: 7046.0674 - mae: 7046.0674\n",
      "Epoch 61/100\n",
      "34/34 [==============================] - 0s 1ms/step - loss: 7248.2646 - mae: 7248.2646\n",
      "Epoch 62/100\n",
      "34/34 [==============================] - 0s 1ms/step - loss: 6923.6030 - mae: 6923.6030\n",
      "Epoch 63/100\n",
      "34/34 [==============================] - 0s 1ms/step - loss: 7092.8145 - mae: 7092.8145\n",
      "Epoch 64/100\n",
      "34/34 [==============================] - 0s 1ms/step - loss: 6843.4678 - mae: 6843.4678\n",
      "Epoch 65/100\n",
      "34/34 [==============================] - 0s 1ms/step - loss: 6946.5483 - mae: 6946.5483\n",
      "Epoch 66/100\n",
      "34/34 [==============================] - 0s 1ms/step - loss: 6789.9487 - mae: 6789.9487\n",
      "Epoch 67/100\n",
      "34/34 [==============================] - 0s 1ms/step - loss: 6676.5381 - mae: 6676.5381\n",
      "Epoch 68/100\n",
      "34/34 [==============================] - 0s 1ms/step - loss: 7164.8491 - mae: 7164.8491\n",
      "Epoch 69/100\n",
      "34/34 [==============================] - 0s 1ms/step - loss: 7047.3848 - mae: 7047.3848\n",
      "Epoch 70/100\n",
      "34/34 [==============================] - 0s 1ms/step - loss: 7073.6099 - mae: 7073.6099\n",
      "Epoch 71/100\n",
      "34/34 [==============================] - 0s 1ms/step - loss: 6931.5742 - mae: 6931.5742\n",
      "Epoch 72/100\n",
      "34/34 [==============================] - 0s 1ms/step - loss: 6887.1123 - mae: 6887.1123\n",
      "Epoch 73/100\n",
      "34/34 [==============================] - 0s 1ms/step - loss: 6951.7065 - mae: 6951.7065\n",
      "Epoch 74/100\n",
      "34/34 [==============================] - 0s 1ms/step - loss: 7038.8208 - mae: 7038.8208\n",
      "Epoch 75/100\n",
      "34/34 [==============================] - 0s 1ms/step - loss: 6679.3896 - mae: 6679.3896\n",
      "Epoch 76/100\n",
      "34/34 [==============================] - 0s 1ms/step - loss: 6830.1313 - mae: 6830.1313\n",
      "Epoch 77/100\n",
      "34/34 [==============================] - 0s 1ms/step - loss: 6788.5361 - mae: 6788.5361\n",
      "Epoch 78/100\n",
      "34/34 [==============================] - 0s 1ms/step - loss: 6935.3823 - mae: 6935.3823\n",
      "Epoch 79/100\n",
      "34/34 [==============================] - 0s 1ms/step - loss: 6992.4053 - mae: 6992.4053\n",
      "Epoch 80/100\n",
      "34/34 [==============================] - 0s 1ms/step - loss: 6716.7324 - mae: 6716.7324\n",
      "Epoch 81/100\n",
      "34/34 [==============================] - 0s 1ms/step - loss: 6908.2939 - mae: 6908.2939\n",
      "Epoch 82/100\n",
      "34/34 [==============================] - 0s 1ms/step - loss: 6938.1836 - mae: 6938.1836\n",
      "Epoch 83/100\n",
      "34/34 [==============================] - 0s 1ms/step - loss: 6913.0728 - mae: 6913.0728\n",
      "Epoch 84/100\n",
      "34/34 [==============================] - 0s 1ms/step - loss: 7105.2964 - mae: 7105.2964\n",
      "Epoch 85/100\n",
      "34/34 [==============================] - 0s 1ms/step - loss: 7003.4282 - mae: 7003.4282\n",
      "Epoch 86/100\n",
      "34/34 [==============================] - 0s 1ms/step - loss: 6888.4448 - mae: 6888.4448\n",
      "Epoch 87/100\n",
      "34/34 [==============================] - 0s 1ms/step - loss: 6717.7261 - mae: 6717.7261\n",
      "Epoch 88/100\n",
      "34/34 [==============================] - 0s 1ms/step - loss: 6722.1621 - mae: 6722.1621\n",
      "Epoch 89/100\n",
      "34/34 [==============================] - 0s 1ms/step - loss: 6682.5576 - mae: 6682.5576\n",
      "Epoch 90/100\n",
      "34/34 [==============================] - 0s 1ms/step - loss: 6880.0122 - mae: 6880.0122\n",
      "Epoch 91/100\n",
      "34/34 [==============================] - 0s 1ms/step - loss: 6978.2168 - mae: 6978.2168\n",
      "Epoch 92/100\n",
      "34/34 [==============================] - 0s 1ms/step - loss: 6855.9546 - mae: 6855.9546\n",
      "Epoch 93/100\n",
      "34/34 [==============================] - 0s 1ms/step - loss: 6928.6367 - mae: 6928.6367\n",
      "Epoch 94/100\n",
      "34/34 [==============================] - 0s 1ms/step - loss: 6726.5562 - mae: 6726.5562\n",
      "Epoch 95/100\n",
      "34/34 [==============================] - 0s 1ms/step - loss: 6859.7925 - mae: 6859.7925\n",
      "Epoch 96/100\n",
      "34/34 [==============================] - 0s 1ms/step - loss: 6833.9209 - mae: 6833.9209\n",
      "Epoch 97/100\n",
      "34/34 [==============================] - 0s 1ms/step - loss: 6970.0225 - mae: 6970.0225\n",
      "Epoch 98/100\n",
      "34/34 [==============================] - 0s 1ms/step - loss: 6938.1240 - mae: 6938.1240\n",
      "Epoch 99/100\n",
      "34/34 [==============================] - 0s 1ms/step - loss: 6753.9653 - mae: 6753.9653\n",
      "Epoch 100/100\n",
      "34/34 [==============================] - 0s 1ms/step - loss: 7001.8198 - mae: 7001.8198\n"
     ]
    }
   ],
   "source": [
    "#fit the model\n",
    "history = insurance_model.fit(X_train, y_train, epochs = 100)"
   ]
  },
  {
   "cell_type": "code",
   "execution_count": 32,
   "metadata": {
    "execution": {
     "iopub.execute_input": "2022-01-24T23:57:14.861943Z",
     "iopub.status.busy": "2022-01-24T23:57:14.861643Z",
     "iopub.status.idle": "2022-01-24T23:57:15.047787Z",
     "shell.execute_reply": "2022-01-24T23:57:15.047223Z",
     "shell.execute_reply.started": "2022-01-24T23:57:14.861911Z"
    }
   },
   "outputs": [
    {
     "name": "stdout",
     "output_type": "stream",
     "text": [
      "9/9 [==============================] - 0s 2ms/step - loss: 7217.1201 - mae: 7217.1201\n"
     ]
    },
    {
     "data": {
      "text/plain": [
       "[7217.1201171875, 7217.1201171875]"
      ]
     },
     "execution_count": 32,
     "metadata": {},
     "output_type": "execute_result"
    }
   ],
   "source": [
    "#check the model on the test data\n",
    "insurance_model.evaluate(X_test, y_test)"
   ]
  },
  {
   "cell_type": "markdown",
   "metadata": {
    "execution": {
     "iopub.execute_input": "2022-01-21T22:06:10.413484Z",
     "iopub.status.busy": "2022-01-21T22:06:10.413168Z",
     "iopub.status.idle": "2022-01-21T22:06:10.418722Z",
     "shell.execute_reply": "2022-01-21T22:06:10.417217Z",
     "shell.execute_reply.started": "2022-01-21T22:06:10.413453Z"
    }
   },
   "source": [
    "with an mae of 7000, we can conclude that the model is, on average, $7000 off....\n",
    "which is pretty shitty. especially considering the mean of y_train is 13346 and median\n",
    "of y_train is 9575."
   ]
  },
  {
   "cell_type": "markdown",
   "metadata": {},
   "source": [
    "#### To improve a model there are 3 things you can:\n",
    "1. Get more training data\n",
    "2. Make your model larger\n",
    "3. Train for longer"
   ]
  },
  {
   "cell_type": "markdown",
   "metadata": {},
   "source": [
    "#### experiment 1: adding more layers and changing optimizer to adam"
   ]
  },
  {
   "cell_type": "code",
   "execution_count": 63,
   "metadata": {
    "execution": {
     "iopub.execute_input": "2022-01-25T00:26:43.610493Z",
     "iopub.status.busy": "2022-01-25T00:26:43.609942Z",
     "iopub.status.idle": "2022-01-25T00:26:49.609899Z",
     "shell.execute_reply": "2022-01-25T00:26:49.608769Z",
     "shell.execute_reply.started": "2022-01-25T00:26:43.610448Z"
    }
   },
   "outputs": [
    {
     "name": "stdout",
     "output_type": "stream",
     "text": [
      "Epoch 1/100\n",
      "34/34 [==============================] - 0s 2ms/step - loss: 13279.1016 - mae: 13279.1016\n",
      "Epoch 2/100\n",
      "34/34 [==============================] - 0s 1ms/step - loss: 12998.5508 - mae: 12998.5508\n",
      "Epoch 3/100\n",
      "34/34 [==============================] - 0s 1ms/step - loss: 12359.9570 - mae: 12359.9570\n",
      "Epoch 4/100\n",
      "34/34 [==============================] - 0s 1ms/step - loss: 11267.7432 - mae: 11267.7432\n",
      "Epoch 5/100\n",
      "34/34 [==============================] - 0s 1ms/step - loss: 9902.3105 - mae: 9902.3105\n",
      "Epoch 6/100\n",
      "34/34 [==============================] - 0s 1ms/step - loss: 8626.2051 - mae: 8626.2051\n",
      "Epoch 7/100\n",
      "34/34 [==============================] - 0s 1ms/step - loss: 7781.4487 - mae: 7781.4487\n",
      "Epoch 8/100\n",
      "34/34 [==============================] - 0s 1ms/step - loss: 7492.3174 - mae: 7492.3174\n",
      "Epoch 9/100\n",
      "34/34 [==============================] - 0s 1ms/step - loss: 7429.4502 - mae: 7429.4502\n",
      "Epoch 10/100\n",
      "34/34 [==============================] - 0s 1ms/step - loss: 7404.6792 - mae: 7404.6792\n",
      "Epoch 11/100\n",
      "34/34 [==============================] - 0s 1ms/step - loss: 7384.3906 - mae: 7384.3906\n",
      "Epoch 12/100\n",
      "34/34 [==============================] - 0s 1ms/step - loss: 7361.3511 - mae: 7361.3511\n",
      "Epoch 13/100\n",
      "34/34 [==============================] - 0s 1ms/step - loss: 7339.2119 - mae: 7339.2119\n",
      "Epoch 14/100\n",
      "34/34 [==============================] - 0s 1ms/step - loss: 7315.2129 - mae: 7315.2129\n",
      "Epoch 15/100\n",
      "34/34 [==============================] - 0s 1ms/step - loss: 7293.9048 - mae: 7293.9048\n",
      "Epoch 16/100\n",
      "34/34 [==============================] - 0s 1ms/step - loss: 7270.2925 - mae: 7270.2925\n",
      "Epoch 17/100\n",
      "34/34 [==============================] - 0s 1ms/step - loss: 7246.8384 - mae: 7246.8384\n",
      "Epoch 18/100\n",
      "34/34 [==============================] - 0s 1ms/step - loss: 7222.0161 - mae: 7222.0161\n",
      "Epoch 19/100\n",
      "34/34 [==============================] - 0s 1ms/step - loss: 7197.0708 - mae: 7197.0708\n",
      "Epoch 20/100\n",
      "34/34 [==============================] - 0s 1ms/step - loss: 7171.0181 - mae: 7171.0181\n",
      "Epoch 21/100\n",
      "34/34 [==============================] - 0s 1ms/step - loss: 7149.4346 - mae: 7149.4346\n",
      "Epoch 22/100\n",
      "34/34 [==============================] - 0s 1ms/step - loss: 7118.2129 - mae: 7118.2129\n",
      "Epoch 23/100\n",
      "34/34 [==============================] - 0s 1ms/step - loss: 7090.8457 - mae: 7090.8457\n",
      "Epoch 24/100\n",
      "34/34 [==============================] - 0s 1ms/step - loss: 7062.9463 - mae: 7062.9463\n",
      "Epoch 25/100\n",
      "34/34 [==============================] - 0s 1ms/step - loss: 7041.9849 - mae: 7041.9849\n",
      "Epoch 26/100\n",
      "34/34 [==============================] - 0s 1ms/step - loss: 7006.6938 - mae: 7006.6938\n",
      "Epoch 27/100\n",
      "34/34 [==============================] - 0s 1ms/step - loss: 6975.1846 - mae: 6975.1846\n",
      "Epoch 28/100\n",
      "34/34 [==============================] - 0s 1ms/step - loss: 6943.8940 - mae: 6943.8940\n",
      "Epoch 29/100\n",
      "34/34 [==============================] - 0s 1ms/step - loss: 6912.7324 - mae: 6912.7324\n",
      "Epoch 30/100\n",
      "34/34 [==============================] - 0s 1ms/step - loss: 6881.7705 - mae: 6881.7705\n",
      "Epoch 31/100\n",
      "34/34 [==============================] - 0s 1ms/step - loss: 6849.1709 - mae: 6849.1709\n",
      "Epoch 32/100\n",
      "34/34 [==============================] - 0s 1ms/step - loss: 6818.0718 - mae: 6818.0718\n",
      "Epoch 33/100\n",
      "34/34 [==============================] - 0s 1ms/step - loss: 6783.7856 - mae: 6783.7856\n",
      "Epoch 34/100\n",
      "34/34 [==============================] - 0s 1ms/step - loss: 6749.0054 - mae: 6749.0054\n",
      "Epoch 35/100\n",
      "34/34 [==============================] - 0s 1ms/step - loss: 6713.8711 - mae: 6713.8711\n",
      "Epoch 36/100\n",
      "34/34 [==============================] - 0s 1ms/step - loss: 6679.8857 - mae: 6679.8857\n",
      "Epoch 37/100\n",
      "34/34 [==============================] - 0s 2ms/step - loss: 6644.4365 - mae: 6644.4365\n",
      "Epoch 38/100\n",
      "34/34 [==============================] - 0s 1ms/step - loss: 6615.0771 - mae: 6615.0771\n",
      "Epoch 39/100\n",
      "34/34 [==============================] - 0s 1ms/step - loss: 6577.4893 - mae: 6577.4893\n",
      "Epoch 40/100\n",
      "34/34 [==============================] - 0s 1ms/step - loss: 6546.3525 - mae: 6546.3525\n",
      "Epoch 41/100\n",
      "34/34 [==============================] - 0s 1ms/step - loss: 6519.9917 - mae: 6519.9917\n",
      "Epoch 42/100\n",
      "34/34 [==============================] - 0s 1ms/step - loss: 6498.1089 - mae: 6498.1089\n",
      "Epoch 43/100\n",
      "34/34 [==============================] - 0s 2ms/step - loss: 6475.4033 - mae: 6475.4033\n",
      "Epoch 44/100\n",
      "34/34 [==============================] - 0s 1ms/step - loss: 6455.2295 - mae: 6455.2295\n",
      "Epoch 45/100\n",
      "34/34 [==============================] - 0s 1ms/step - loss: 6446.5615 - mae: 6446.5615\n",
      "Epoch 46/100\n",
      "34/34 [==============================] - 0s 2ms/step - loss: 6425.7314 - mae: 6425.7314\n",
      "Epoch 47/100\n",
      "34/34 [==============================] - 0s 1ms/step - loss: 6411.4160 - mae: 6411.4160\n",
      "Epoch 48/100\n",
      "34/34 [==============================] - 0s 1ms/step - loss: 6398.4351 - mae: 6398.4351\n",
      "Epoch 49/100\n",
      "34/34 [==============================] - 0s 1ms/step - loss: 6384.6431 - mae: 6384.6431\n",
      "Epoch 50/100\n",
      "34/34 [==============================] - 0s 1ms/step - loss: 6370.5215 - mae: 6370.5215\n",
      "Epoch 51/100\n",
      "34/34 [==============================] - 0s 2ms/step - loss: 6357.4189 - mae: 6357.4189\n",
      "Epoch 52/100\n",
      "34/34 [==============================] - 0s 2ms/step - loss: 6345.0610 - mae: 6345.0610\n",
      "Epoch 53/100\n",
      "34/34 [==============================] - 0s 2ms/step - loss: 6330.3516 - mae: 6330.3516\n",
      "Epoch 54/100\n",
      "34/34 [==============================] - 0s 2ms/step - loss: 6315.5957 - mae: 6315.5957\n",
      "Epoch 55/100\n",
      "34/34 [==============================] - 0s 1ms/step - loss: 6301.8623 - mae: 6301.8623\n",
      "Epoch 56/100\n",
      "34/34 [==============================] - 0s 2ms/step - loss: 6289.6030 - mae: 6289.6030\n",
      "Epoch 57/100\n",
      "34/34 [==============================] - 0s 2ms/step - loss: 6274.3760 - mae: 6274.3760\n",
      "Epoch 58/100\n",
      "34/34 [==============================] - 0s 1ms/step - loss: 6261.9380 - mae: 6261.9380\n",
      "Epoch 59/100\n",
      "34/34 [==============================] - 0s 1ms/step - loss: 6245.6675 - mae: 6245.6675\n",
      "Epoch 60/100\n",
      "34/34 [==============================] - 0s 1ms/step - loss: 6234.6978 - mae: 6234.6978\n",
      "Epoch 61/100\n",
      "34/34 [==============================] - 0s 1ms/step - loss: 6216.2388 - mae: 6216.2388\n",
      "Epoch 62/100\n",
      "34/34 [==============================] - 0s 1ms/step - loss: 6202.5049 - mae: 6202.5049\n",
      "Epoch 63/100\n",
      "34/34 [==============================] - 0s 2ms/step - loss: 6185.4409 - mae: 6185.4409\n",
      "Epoch 64/100\n",
      "34/34 [==============================] - 0s 1ms/step - loss: 6169.6323 - mae: 6169.6323\n",
      "Epoch 65/100\n",
      "34/34 [==============================] - 0s 1ms/step - loss: 6152.8467 - mae: 6152.8467\n",
      "Epoch 66/100\n",
      "34/34 [==============================] - 0s 1ms/step - loss: 6136.7837 - mae: 6136.7837\n",
      "Epoch 67/100\n",
      "34/34 [==============================] - 0s 1ms/step - loss: 6123.6006 - mae: 6123.6006\n",
      "Epoch 68/100\n",
      "34/34 [==============================] - 0s 2ms/step - loss: 6103.8745 - mae: 6103.8745\n",
      "Epoch 69/100\n",
      "34/34 [==============================] - 0s 1ms/step - loss: 6088.0547 - mae: 6088.0547\n",
      "Epoch 70/100\n",
      "34/34 [==============================] - 0s 1ms/step - loss: 6069.4072 - mae: 6069.4072\n",
      "Epoch 71/100\n",
      "34/34 [==============================] - 0s 1ms/step - loss: 6051.6499 - mae: 6051.6499\n",
      "Epoch 72/100\n",
      "34/34 [==============================] - 0s 2ms/step - loss: 6034.5566 - mae: 6034.5566\n",
      "Epoch 73/100\n",
      "34/34 [==============================] - 0s 1ms/step - loss: 6021.8032 - mae: 6021.8032\n",
      "Epoch 74/100\n",
      "34/34 [==============================] - 0s 2ms/step - loss: 5996.7051 - mae: 5996.7051\n",
      "Epoch 75/100\n",
      "34/34 [==============================] - 0s 3ms/step - loss: 5979.3887 - mae: 5979.3887\n",
      "Epoch 76/100\n",
      "34/34 [==============================] - 0s 2ms/step - loss: 5968.0605 - mae: 5968.0605\n",
      "Epoch 77/100\n",
      "34/34 [==============================] - 0s 2ms/step - loss: 5938.2104 - mae: 5938.2104\n",
      "Epoch 78/100\n",
      "34/34 [==============================] - 0s 2ms/step - loss: 5919.7622 - mae: 5919.7622\n",
      "Epoch 79/100\n",
      "34/34 [==============================] - 0s 2ms/step - loss: 5899.6787 - mae: 5899.6787\n",
      "Epoch 80/100\n",
      "34/34 [==============================] - 0s 2ms/step - loss: 5876.9438 - mae: 5876.9438\n",
      "Epoch 81/100\n",
      "34/34 [==============================] - 0s 2ms/step - loss: 5857.8096 - mae: 5857.8096\n",
      "Epoch 82/100\n",
      "34/34 [==============================] - 0s 2ms/step - loss: 5835.6753 - mae: 5835.6753\n",
      "Epoch 83/100\n",
      "34/34 [==============================] - 0s 2ms/step - loss: 5814.1890 - mae: 5814.1890\n",
      "Epoch 84/100\n",
      "34/34 [==============================] - 0s 2ms/step - loss: 5788.1382 - mae: 5788.1382\n",
      "Epoch 85/100\n",
      "34/34 [==============================] - 0s 2ms/step - loss: 5772.4902 - mae: 5772.4902\n",
      "Epoch 86/100\n",
      "34/34 [==============================] - 0s 1ms/step - loss: 5744.4541 - mae: 5744.4541\n",
      "Epoch 87/100\n",
      "34/34 [==============================] - 0s 2ms/step - loss: 5719.0503 - mae: 5719.0503\n",
      "Epoch 88/100\n",
      "34/34 [==============================] - 0s 2ms/step - loss: 5695.7368 - mae: 5695.7368\n",
      "Epoch 89/100\n",
      "34/34 [==============================] - 0s 2ms/step - loss: 5669.2085 - mae: 5669.2085\n",
      "Epoch 90/100\n",
      "34/34 [==============================] - 0s 2ms/step - loss: 5642.3662 - mae: 5642.3662\n",
      "Epoch 91/100\n",
      "34/34 [==============================] - 0s 2ms/step - loss: 5619.4854 - mae: 5619.4854\n",
      "Epoch 92/100\n",
      "34/34 [==============================] - 0s 2ms/step - loss: 5588.9023 - mae: 5588.9023\n",
      "Epoch 93/100\n",
      "34/34 [==============================] - 0s 2ms/step - loss: 5566.5728 - mae: 5566.5728\n",
      "Epoch 94/100\n",
      "34/34 [==============================] - 0s 1ms/step - loss: 5541.8271 - mae: 5541.8271\n",
      "Epoch 95/100\n",
      "34/34 [==============================] - 0s 2ms/step - loss: 5509.8706 - mae: 5509.8706\n",
      "Epoch 96/100\n",
      "34/34 [==============================] - 0s 1ms/step - loss: 5481.2119 - mae: 5481.2119\n",
      "Epoch 97/100\n",
      "34/34 [==============================] - 0s 2ms/step - loss: 5455.2651 - mae: 5455.2651\n",
      "Epoch 98/100\n",
      "34/34 [==============================] - 0s 2ms/step - loss: 5421.0415 - mae: 5421.0415\n",
      "Epoch 99/100\n",
      "34/34 [==============================] - 0s 2ms/step - loss: 5391.8013 - mae: 5391.8013\n",
      "Epoch 100/100\n",
      "34/34 [==============================] - 0s 1ms/step - loss: 5360.1084 - mae: 5360.1084\n"
     ]
    }
   ],
   "source": [
    "#set random seed\n",
    "tf.random.set_seed(42)\n",
    "\n",
    "#create the model\n",
    "model2 = tf.keras.Sequential()\n",
    "#model2.add(tf.keras.layers.Dense(100))\n",
    "model2.add(tf.keras.layers.Dense(10))\n",
    "model2.add(tf.keras.layers.Dense(1))\n",
    "\n",
    "#compile the model\n",
    "model2.compile(loss = tf.keras.losses.mae,\n",
    "              optimizer = tf.keras.optimizers.Adam(learning_rate = 0.01),\n",
    "               metrics = ['mae'])\n",
    "\n",
    "#fit the model\n",
    "history2 = model2.fit(X_train, y_train, epochs = 100, verbose = 1)"
   ]
  },
  {
   "cell_type": "code",
   "execution_count": 43,
   "metadata": {
    "execution": {
     "iopub.execute_input": "2022-01-25T00:03:35.120220Z",
     "iopub.status.busy": "2022-01-25T00:03:35.119877Z",
     "iopub.status.idle": "2022-01-25T00:03:35.305643Z",
     "shell.execute_reply": "2022-01-25T00:03:35.304960Z",
     "shell.execute_reply.started": "2022-01-25T00:03:35.120187Z"
    }
   },
   "outputs": [
    {
     "name": "stdout",
     "output_type": "stream",
     "text": [
      "9/9 [==============================] - 0s 2ms/step - loss: 5243.4272 - mae: 5243.4272\n"
     ]
    },
    {
     "data": {
      "text/plain": [
       "[5243.42724609375, 5243.42724609375]"
      ]
     },
     "execution_count": 43,
     "metadata": {},
     "output_type": "execute_result"
    }
   ],
   "source": [
    "model2.evaluate(X_test, y_test)"
   ]
  },
  {
   "cell_type": "markdown",
   "metadata": {},
   "source": [
    "#### experiment 2. same as above, just adding more epochs"
   ]
  },
  {
   "cell_type": "code",
   "execution_count": 62,
   "metadata": {
    "execution": {
     "iopub.execute_input": "2022-01-25T00:26:32.245506Z",
     "iopub.status.busy": "2022-01-25T00:26:32.245186Z",
     "iopub.status.idle": "2022-01-25T00:26:43.607472Z",
     "shell.execute_reply": "2022-01-25T00:26:43.606632Z",
     "shell.execute_reply.started": "2022-01-25T00:26:32.245473Z"
    }
   },
   "outputs": [],
   "source": [
    "#set random seed\n",
    "tf.random.set_seed(42)\n",
    "\n",
    "#create mdoel\n",
    "model3 = tf.keras.Sequential()\n",
    "model3.add(tf.keras.layers.Dense(100))\n",
    "model3.add(tf.keras.layers.Dense(10))\n",
    "model3.add(tf.keras.layers.Dense(1))\n",
    "\n",
    "#compile the model\n",
    "model3.compile(loss = tf.keras.losses.mae,\n",
    "              optimizer = tf.keras.optimizers.Adam(),\n",
    "              metrics = ['mae'])\n",
    "\n",
    "#fit the model\n",
    "history3 = model3.fit(X_train, y_train, epochs = 200, verbose = 0)"
   ]
  },
  {
   "cell_type": "code",
   "execution_count": 46,
   "metadata": {
    "execution": {
     "iopub.execute_input": "2022-01-25T00:11:16.996111Z",
     "iopub.status.busy": "2022-01-25T00:11:16.995812Z",
     "iopub.status.idle": "2022-01-25T00:11:17.212674Z",
     "shell.execute_reply": "2022-01-25T00:11:17.212057Z",
     "shell.execute_reply.started": "2022-01-25T00:11:16.996077Z"
    }
   },
   "outputs": [
    {
     "name": "stdout",
     "output_type": "stream",
     "text": [
      "9/9 [==============================] - 0s 2ms/step - loss: 3488.7861 - mae: 3488.7861\n"
     ]
    },
    {
     "data": {
      "text/plain": [
       "[3488.7861328125, 3488.7861328125]"
      ]
     },
     "execution_count": 46,
     "metadata": {},
     "output_type": "execute_result"
    }
   ],
   "source": [
    "model3.evaluate(X_test, y_test)"
   ]
  },
  {
   "cell_type": "markdown",
   "metadata": {},
   "source": [
    "This is more of an imporvement still"
   ]
  },
  {
   "cell_type": "markdown",
   "metadata": {},
   "source": [
    "#### experiment 3: adding several more layers with activation functions, changing the learning rate, and trianing for 200 epochs"
   ]
  },
  {
   "cell_type": "code",
   "execution_count": 60,
   "metadata": {
    "execution": {
     "iopub.execute_input": "2022-01-25T00:26:10.746140Z",
     "iopub.status.busy": "2022-01-25T00:26:10.745580Z",
     "iopub.status.idle": "2022-01-25T00:26:31.984878Z",
     "shell.execute_reply": "2022-01-25T00:26:31.983862Z",
     "shell.execute_reply.started": "2022-01-25T00:26:10.746093Z"
    }
   },
   "outputs": [],
   "source": [
    "#lets improve our model to make better guesses\n",
    "model4 = tf.keras.Sequential()\n",
    "model4.add(tf.keras.layers.Dense(11, activation = 'relu'))\n",
    "model4.add(tf.keras.layers.Dense(44, activation = 'relu'))\n",
    "model4.add(tf.keras.layers.Dense(88, activation = 'relu'))\n",
    "model4.add(tf.keras.layers.Dense(44, activation = 'relu'))\n",
    "model4.add(tf.keras.layers.Dense(11, activation = 'relu'))\n",
    "model4.add(tf.keras.layers.Dense(1))\n",
    "\n",
    "model4.compile(loss = tf.keras.losses.mae,\n",
    "              optimizer = tf.keras.optimizers.Adam(learning_rate = 0.001),\n",
    "              metrics = ['mae'])\n",
    "\n",
    "history4 = model4.fit(X_train, y_train, epochs = 200, verbose = 0)"
   ]
  },
  {
   "cell_type": "code",
   "execution_count": 56,
   "metadata": {
    "execution": {
     "iopub.execute_input": "2022-01-25T00:23:28.886948Z",
     "iopub.status.busy": "2022-01-25T00:23:28.885941Z",
     "iopub.status.idle": "2022-01-25T00:23:29.106916Z",
     "shell.execute_reply": "2022-01-25T00:23:29.105989Z",
     "shell.execute_reply.started": "2022-01-25T00:23:28.886903Z"
    }
   },
   "outputs": [
    {
     "name": "stdout",
     "output_type": "stream",
     "text": [
      "9/9 [==============================] - 0s 2ms/step - loss: 1942.1740 - mae: 1942.1741\n"
     ]
    },
    {
     "data": {
      "text/plain": [
       "[1942.1739501953125, 1942.174072265625]"
      ]
     },
     "execution_count": 56,
     "metadata": {},
     "output_type": "execute_result"
    }
   ],
   "source": [
    "model4.evaluate(X_test, y_test)"
   ]
  },
  {
   "cell_type": "markdown",
   "metadata": {
    "execution": {
     "iopub.execute_input": "2022-01-25T00:13:29.346012Z",
     "iopub.status.busy": "2022-01-25T00:13:29.345600Z",
     "iopub.status.idle": "2022-01-25T00:13:29.351728Z",
     "shell.execute_reply": "2022-01-25T00:13:29.350427Z",
     "shell.execute_reply.started": "2022-01-25T00:13:29.345968Z"
    }
   },
   "source": [
    "an mae of 2161 is better yet. perhaps increasing epochs and layers will get the value down even further."
   ]
  },
  {
   "cell_type": "code",
   "execution_count": 68,
   "metadata": {
    "execution": {
     "iopub.execute_input": "2022-01-25T00:27:53.209984Z",
     "iopub.status.busy": "2022-01-25T00:27:53.209652Z",
     "iopub.status.idle": "2022-01-25T00:27:53.460121Z",
     "shell.execute_reply": "2022-01-25T00:27:53.458954Z",
     "shell.execute_reply.started": "2022-01-25T00:27:53.209952Z"
    }
   },
   "outputs": [
    {
     "data": {
      "text/plain": [
       "Text(0.5, 0, 'epochs')"
      ]
     },
     "execution_count": 68,
     "metadata": {},
     "output_type": "execute_result"
    },
    {
     "data": {
      "image/png": "[encoded data removed]",
      "text/plain": [
       "<Figure size 432x288 with 1 Axes>"
      ]
     },
     "metadata": {
      "needs_background": "light"
     },
     "output_type": "display_data"
    }
   ],
   "source": [
    "#we can also plot the loss/training curve of each model\n",
    "pd.DataFrame(history4.history).plot()\n",
    "plt.ylabel('loss')\n",
    "plt.xlabel('epochs')"
   ]
  },
  {
   "cell_type": "code",
   "execution_count": 67,
   "metadata": {
    "execution": {
     "iopub.execute_input": "2022-01-25T00:27:39.411897Z",
     "iopub.status.busy": "2022-01-25T00:27:39.411580Z",
     "iopub.status.idle": "2022-01-25T00:27:39.675904Z",
     "shell.execute_reply": "2022-01-25T00:27:39.674857Z",
     "shell.execute_reply.started": "2022-01-25T00:27:39.411858Z"
    }
   },
   "outputs": [
    {
     "data": {
      "text/plain": [
       "Text(0.5, 0, 'epochs')"
      ]
     },
     "execution_count": 67,
     "metadata": {},
     "output_type": "execute_result"
    },
    {
     "data": {
      "image/png": "[encoded data removed]",
      "text/plain": [
       "<Figure size 432x288 with 1 Axes>"
      ]
     },
     "metadata": {
      "needs_background": "light"
     },
     "output_type": "display_data"
    }
   ],
   "source": [
    "pd.DataFrame(history3.history).plot()\n",
    "plt.ylabel('loss')\n",
    "plt.xlabel('epochs')"
   ]
  },
  {
   "cell_type": "code",
   "execution_count": 66,
   "metadata": {
    "execution": {
     "iopub.execute_input": "2022-01-25T00:27:37.194168Z",
     "iopub.status.busy": "2022-01-25T00:27:37.193639Z",
     "iopub.status.idle": "2022-01-25T00:27:37.455138Z",
     "shell.execute_reply": "2022-01-25T00:27:37.454218Z",
     "shell.execute_reply.started": "2022-01-25T00:27:37.194133Z"
    }
   },
   "outputs": [
    {
     "data": {
      "text/plain": [
       "Text(0.5, 0, 'epochs')"
      ]
     },
     "execution_count": 66,
     "metadata": {},
     "output_type": "execute_result"
    },
    {
     "data": {
      "image/png": "[encoded data removed]",
      "text/plain": [
       "<Figure size 432x288 with 1 Axes>"
      ]
     },
     "metadata": {
      "needs_background": "light"
     },
     "output_type": "display_data"
    }
   ],
   "source": [
    "pd.DataFrame(history2.history).plot()\n",
    "plt.ylabel('loss')\n",
    "plt.xlabel('epochs')"
   ]
  },
  {
   "cell_type": "code",
   "execution_count": 65,
   "metadata": {
    "execution": {
     "iopub.execute_input": "2022-01-25T00:27:34.118585Z",
     "iopub.status.busy": "2022-01-25T00:27:34.118093Z",
     "iopub.status.idle": "2022-01-25T00:27:34.401494Z",
     "shell.execute_reply": "2022-01-25T00:27:34.400665Z",
     "shell.execute_reply.started": "2022-01-25T00:27:34.118537Z"
    }
   },
   "outputs": [
    {
     "data": {
      "text/plain": [
       "Text(0.5, 0, 'epochs')"
      ]
     },
     "execution_count": 65,
     "metadata": {},
     "output_type": "execute_result"
    },
    {
     "data": {
      "image/png": "[encoded data removed]",
      "text/plain": [
       "<Figure size 432x288 with 1 Axes>"
      ]
     },
     "metadata": {
      "needs_background": "light"
     },
     "output_type": "display_data"
    }
   ],
   "source": [
    "pd.DataFrame(history.history).plot()\n",
    "plt.ylabel('loss')\n",
    "plt.xlabel('epochs')"
   ]
  },
  {
   "cell_type": "markdown",
   "metadata": {},
   "source": [
    "? How long should you train for?\n",
    "\n",
    "It depends. really... it depends on the problem you're working on.\n",
    "However, many people have asked this question before\n",
    "Tensorflow "
   ]
  }
 ],
 "metadata": {
  "kernelspec": {
   "display_name": "Python 3 (ipykernel)",
   "language": "python",
   "name": "python3"
  },
  "language_info": {
   "codemirror_mode": {
    "name": "ipython",
    "version": 3
   },
   "file_extension": ".py",
   "mimetype": "text/x-python",
   "name": "python",
   "nbconvert_exporter": "python",
   "pygments_lexer": "ipython3",
   "version": "3.8.0"
  }
 },
 "nbformat": 4,
 "nbformat_minor": 4
}
